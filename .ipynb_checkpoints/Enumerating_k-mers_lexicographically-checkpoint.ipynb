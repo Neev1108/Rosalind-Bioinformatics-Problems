{
 "cells": [
  {
   "cell_type": "code",
   "execution_count": 22,
   "metadata": {},
   "outputs": [],
   "source": [
    "\"\"\"\n",
    "Assume that an alphabet 𝒜 has a predetermined order; that is, we write the alphabet as a \n",
    "permutation 𝒜=(a1,a2,…,ak), where a1<a2<⋯<ak. For instance, the English alphabet is organized as (A,B,…,Z).\n",
    "Given two strings s and t having the same length n, we say that s precedes t in the \n",
    "lexicographic order (and write s<Lext) if the first symbol s[j] that doesn't match t[j] satisfies sj<tj in 𝒜.\n",
    "Given: A collection of at most 10 symbols defining an ordered alphabet, and a positive integer n (n≤10).\n",
    "Return: All strings of length n that can be formed from the alphabet, \n",
    "ordered lexicographically (use the standard order of symbols in the English alphabet).\n",
    "\n",
    "\"\"\"\n",
    "import itertools  \n",
    "symbols = 'ACGT'\n",
    "n = 2"
   ]
  },
  {
   "cell_type": "code",
   "execution_count": 33,
   "metadata": {},
   "outputs": [],
   "source": [
    "# Itertools.product will give us the cartesian product of the symbols, which will give us all orderings\n",
    "def lexi_perm(symbols, n):\n",
    "    perm = itertools.product(list(symbols), repeat=n)\n",
    "    all_strings = []                                       \n",
    "    for i in list(perm):                \n",
    "        permutation = ''   \n",
    "        for x in i:                                \n",
    "            permutation = permutation + str(x)\n",
    "        all_strings.append(permutation)                    \n",
    "     \n",
    "    return sorted(all_strings)\n",
    "            "
   ]
  },
  {
   "cell_type": "code",
   "execution_count": 34,
   "metadata": {},
   "outputs": [
    {
     "name": "stdout",
     "output_type": "stream",
     "text": [
      "['AA', 'AC', 'AG', 'AT', 'CA', 'CC', 'CG', 'CT', 'GA', 'GC', 'GG', 'GT', 'TA', 'TC', 'TG', 'TT']\n"
     ]
    }
   ],
   "source": [
    "sorted_strings = lexi_perm(symbols, n)\n",
    "print(sorted_strings)"
   ]
  },
  {
   "cell_type": "code",
   "execution_count": null,
   "metadata": {},
   "outputs": [],
   "source": []
  }
 ],
 "metadata": {
  "kernelspec": {
   "display_name": "Python 3",
   "language": "python",
   "name": "python3"
  },
  "language_info": {
   "codemirror_mode": {
    "name": "ipython",
    "version": 3
   },
   "file_extension": ".py",
   "mimetype": "text/x-python",
   "name": "python",
   "nbconvert_exporter": "python",
   "pygments_lexer": "ipython3",
   "version": "3.8.5"
  }
 },
 "nbformat": 4,
 "nbformat_minor": 4
}
