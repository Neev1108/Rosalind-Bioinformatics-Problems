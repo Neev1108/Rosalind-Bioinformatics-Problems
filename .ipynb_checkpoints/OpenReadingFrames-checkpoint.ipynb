{
 "cells": [
  {
   "cell_type": "code",
   "execution_count": 69,
   "metadata": {},
   "outputs": [],
   "source": [
    "\"\"\"\n",
    "\n",
    "Either strand of a DNA double helix can serve as the coding strand for RNA transcription. \n",
    "Hence, a given DNA string implies six total reading frames, or ways in which the same region of DNA can \n",
    "be translated into amino acids: three reading frames result from reading the string itself, \n",
    "whereas three more result from reading its reverse complement.\n",
    "\n",
    "An open reading frame (ORF) is one which starts from the start codon and ends by stop codon,\n",
    "without any other stop codons in between. \n",
    "Thus, a candidate protein string is derived by translating an open reading frame into amino acids \n",
    "until a stop codon is reached.\n",
    "\n",
    "Given: A DNA string s of length at most 1 kbp in FASTA format.\n",
    "\n",
    "Return: Every distinct candidate protein string that can be translated from ORFs of s. \n",
    "Strings can be returned in any order.\n",
    "\n",
    "\"\"\"\n",
    "from Bio import SeqIO"
   ]
  },
  {
   "cell_type": "code",
   "execution_count": 70,
   "metadata": {},
   "outputs": [],
   "source": [
    "fasta_records = []\n",
    "for seq_record in SeqIO.parse('sequences/ORF.fasta', 'fasta'):\n",
    "    fasta_records.append(seq_record)\n",
    "    "
   ]
  },
  {
   "cell_type": "code",
   "execution_count": 86,
   "metadata": {},
   "outputs": [],
   "source": [
    "# We need to parse initial dna sequence and its complement for start and stop codons so, \n",
    "def getORFs(coding_seq):\n",
    "    list_of_ORFs = []\n",
    "    \n",
    "    for i in range(len(coding_seq)):\n",
    "        ORF_string = ''\n",
    "        if coding_seq[i] == 'M':\n",
    "            ORF_string = 'M'\n",
    "            for j in range(i+1, len(coding_seq)):\n",
    "                if coding_seq[j]!= '*':\n",
    "                    ORF_string = ORF_string + coding_seq[j]\n",
    "                else:\n",
    "                    ORF_string = ORF_string + coding_seq[j]\n",
    "                    break\n",
    "                    \n",
    "        if len(ORF_string)!= 0 and ORF_string[-1] == '*':\n",
    "            list_of_ORFs.append(ORF_string[0:len(ORF_string)-1])\n",
    "                \n",
    "    return list_of_ORFs\n",
    "        "
   ]
  },
  {
   "cell_type": "code",
   "execution_count": 87,
   "metadata": {},
   "outputs": [
    {
     "name": "stdout",
     "output_type": "stream",
     "text": [
      "SHVANSGYMGMTPRLGLESLLE*A*MIRVASQ\n",
      "LRCYSDHSGLFQKRL*SKSRGHPHVT*VSYMA\n",
      "['MGMTPRLGLESLLE', 'MTPRLGLESLLE']\n"
     ]
    }
   ],
   "source": [
    "\"\"\"\n",
    "Rosalind answer is: I got the last two answers, not sure how to get the first 2, I tried to reverse complement\n",
    "MLLGSFRLIPKETLIQVAGSSPCNLS\n",
    "M\n",
    "MGMTPRLGLESLLE\n",
    "MTPRLGLESLLE\n",
    "\n",
    "I got the last two answers, which is the just the translation of the 5' 3' dna sequence given. I tried to \n",
    "reverse complement, but it does not match\n",
    "\"\"\"\n",
    "\n",
    "print(fasta_records[0].seq.translate())\n",
    "print(fasta_records[0].seq.reverse_complement().translate())\n",
    "for seq_record in fasta_records:\n",
    "    print(getORFs(seq_record.seq.transcribe().translate()))"
   ]
  },
  {
   "cell_type": "code",
   "execution_count": null,
   "metadata": {},
   "outputs": [],
   "source": []
  }
 ],
 "metadata": {
  "kernelspec": {
   "display_name": "Python 3",
   "language": "python",
   "name": "python3"
  },
  "language_info": {
   "codemirror_mode": {
    "name": "ipython",
    "version": 3
   },
   "file_extension": ".py",
   "mimetype": "text/x-python",
   "name": "python",
   "nbconvert_exporter": "python",
   "pygments_lexer": "ipython3",
   "version": "3.8.5"
  }
 },
 "nbformat": 4,
 "nbformat_minor": 4
}
