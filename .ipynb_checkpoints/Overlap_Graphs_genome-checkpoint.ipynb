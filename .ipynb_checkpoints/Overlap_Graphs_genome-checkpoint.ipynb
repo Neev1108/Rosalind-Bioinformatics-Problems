{
 "cells": [
  {
   "cell_type": "code",
   "execution_count": 167,
   "metadata": {},
   "outputs": [],
   "source": [
    "from Bio import SeqIO"
   ]
  },
  {
   "cell_type": "code",
   "execution_count": 168,
   "metadata": {},
   "outputs": [],
   "source": [
    "fasta_records = []\n",
    "for seq_record in SeqIO.parse('sequences.fasta', 'fasta'):\n",
    "    fasta_records.append(seq_record)"
   ]
  },
  {
   "cell_type": "code",
   "execution_count": 169,
   "metadata": {},
   "outputs": [],
   "source": [
    "\"\"\"\n",
    "For a collection of strings and a positive integer k, the overlap graph for the strings is a directed graph Ok\n",
    "in which each string is represented by a node, and string s is connected to string t with a directed edge when there is a length k\n",
    "suffix of s that matches a length k prefix of t as long as s≠t; we demand s≠t\n",
    "to prevent directed loops in the overlap graph (although directed cycles may be present).\n",
    "\n",
    "Return: The adjacency list corresponding to O3\n",
    "You may return edges in any order.\n",
    "\n",
    "\"\"\"\n",
    "\n",
    "\n",
    "class Graph:\n",
    "    list_of_nodes = []\n",
    "    adjacency_list = []\n",
    "    \n",
    "    def addNode(self, node):\n",
    "        self.list_of_nodes.append(node)\n",
    "        \n",
    "class Node:\n",
    "    seq = ''\n",
    "    kmers = []\n",
    "    \n",
    "    \n",
    "    def __init__(self, name, seq,k):\n",
    "        self.name = name\n",
    "        self.seq = seq\n",
    "        self.kmers = self.findk_Mers(self.seq,k)\n",
    "        \n",
    "    def findk_Mers(self,seq,k):\n",
    "        kmer_arr = []\n",
    "        seq = self.seq\n",
    "        for i in range(len(self.seq)-k+1):\n",
    "            kmer = seq[i:i+k]\n",
    "            kmer_arr.append(kmer)\n",
    "        self.kmers = kmer_arr\n",
    "        \n",
    "        return kmer_arr\n",
    "        \n",
    "            \n"
   ]
  },
  {
   "cell_type": "code",
   "execution_count": 170,
   "metadata": {},
   "outputs": [
    {
     "name": "stdout",
     "output_type": "stream",
     "text": [
      "Rosalind_0498 ['AAA', 'AAT', 'ATA', 'TAA', 'AAA']\n",
      "Rosalind_2391 ['AAA', 'AAT', 'ATT', 'TTT', 'TTT']\n",
      "Rosalind_2323 ['TTT', 'TTT', 'TTC', 'TCC', 'CCC']\n",
      "Rosalind_0442 ['AAA', 'AAT', 'ATC', 'TCC', 'CCC']\n",
      "Rosalind_5013 ['GGG', 'GGT', 'GTG', 'TGG', 'GGG']\n"
     ]
    }
   ],
   "source": [
    "# k = 3 for k-mers list, stored in the list\n",
    "k = 3\n",
    "new_graph = Graph()\n",
    "for seq_record in fasta_records:\n",
    "    node = Node(str(seq_record.id), str(seq_record.seq), k)\n",
    "    new_graph.addNode(node)\n",
    "    print(node.name, end = \" \")\n",
    "    print(node.kmers)\n",
    "\n",
    "    "
   ]
  },
  {
   "cell_type": "code",
   "execution_count": 171,
   "metadata": {},
   "outputs": [],
   "source": [
    "\n",
    "\n",
    "def overlap_graphs(graph, k) -> list:\n",
    "    adjacency_list = []\n",
    "    for node in graph.list_of_nodes:\n",
    "        kmer_array = node.kmers\n",
    "        for kmer, second_node in zip(kmer_array[1:], graph.list_of_nodes):\n",
    "            kmers_second = second_node.kmers\n",
    "            if kmer in kmers_second[:len(kmers_second)-2] and node.name != second_node and node.seq != second_node.seq and [second_node.name, node.name] not in adjacency_list:\n",
    "                edge = [node.name, second_node.name]\n",
    "                adjacency_list.append(edge)\n",
    "                \n",
    "    adjacency_list = removeDuplicates(adjacency_list)\n",
    "        \n",
    "    return adjacency_list\n",
    "    "
   ]
  },
  {
   "cell_type": "code",
   "execution_count": 172,
   "metadata": {},
   "outputs": [
    {
     "name": "stdout",
     "output_type": "stream",
     "text": [
      "\n",
      "Rosalind_0442 Rosalind_0498 \n",
      "Rosalind_0498 Rosalind_2391 \n",
      "Rosalind_2323 Rosalind_2391 "
     ]
    }
   ],
   "source": [
    "overlap = overlap_graphs(new_graph,k)\n",
    "for x in overlap:\n",
    "    print()\n",
    "    for y in x:\n",
    "        print(y, end = ' ')"
   ]
  }
 ],
 "metadata": {
  "kernelspec": {
   "display_name": "Python 3",
   "language": "python",
   "name": "python3"
  },
  "language_info": {
   "codemirror_mode": {
    "name": "ipython",
    "version": 3
   },
   "file_extension": ".py",
   "mimetype": "text/x-python",
   "name": "python",
   "nbconvert_exporter": "python",
   "pygments_lexer": "ipython3",
   "version": "3.8.5"
  }
 },
 "nbformat": 4,
 "nbformat_minor": 4
}
