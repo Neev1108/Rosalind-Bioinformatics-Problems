{
 "cells": [
  {
   "cell_type": "code",
   "execution_count": 6,
   "metadata": {},
   "outputs": [],
   "source": [
    "\"\"\"\n",
    "Unfortunately, although any RNA string can be translated into a unique protein string, \n",
    "reversing the process yields a huge number of possible RNA strings from a single protein string \n",
    "because most amino acids correspond to multiple RNA codons (see the RNA Codon Table).\n",
    "\n",
    "Because of memory considerations, most data formats that are built into languages have upper bounds on how \n",
    "large an integer can be: in some versions of Python, an \"int\" variable may be required to be no \n",
    "larger than 231−1, or 2,147,483,647. As a result, to deal with very large numbers in Rosalind, \n",
    "we need to devise a system that allows us to manipulate large numbers without \n",
    "actually having to store large numbers.\n",
    "\n",
    "\"\"\"\n",
    "\n",
    "with open('sequences/reversing_trans.txt', 'r') as f:\n",
    "    lines = f.readlines()\n",
    "    \n",
    "sequence = ''\n",
    "for line in lines:\n",
    "    sequence = sequence + line\n"
   ]
  },
  {
   "cell_type": "code",
   "execution_count": 7,
   "metadata": {},
   "outputs": [
    {
     "name": "stdout",
     "output_type": "stream",
     "text": [
      "12\n"
     ]
    }
   ],
   "source": [
    "codon_table = {\n",
    "    'R':['CGU','CGC','CGA','CGG','AGA','AGG',],\n",
    "    'V':['GUU','GUC','GUA','GUG',],\n",
    "    'T':['ACU','ACC','ACA','ACG',],\n",
    "    'A':['GCU','GCC','GCA','GCG',],\n",
    "    'G':['GGU','GGC','GGA','GGG',],\n",
    "    'S':['UCU','UCC','UCA','UCG','AGU','AGC',],\n",
    "    'P':['CCU','CCC','CCA','CCG',],\n",
    "    'F':['UUU','UUC',],\n",
    "    'L':['UUA','UUG','CUU','CUC','CUA','CUG'],\n",
    "    'Y':['UAU','UAC',],\n",
    "    '*':['UAA','UAG','UGA',],\n",
    "    'C':['UGU','UGC',],\n",
    "    'W':['UGG',],\n",
    "    'I':['AUU','AUC','AUA',],\n",
    "    'M':['AUG',],\n",
    "    'H':['CAU','CAC',],\n",
    "    'N':['AAU','AAC',],\n",
    "    'D':['GAU','GAC',],\n",
    "    'Q':['CAA','CAG',],\n",
    "    'K':['AAA','AAG',],\n",
    "    'E':['GAA','GAG',],\n",
    "}\n",
    "\n",
    "def number_of_rna_strings(sequence):\n",
    "    # Every sequence may have a stop codon at the end, which is encoded by 3 codons, thus just making sure \n",
    "    # we multiply from 3\n",
    "    \n",
    "    all_combinations = 3\n",
    "    for aa in sequence:\n",
    "        different_combinations = len(codon_table.get(aa))\n",
    "        all_combinations *= different_combinations\n",
    "        \n",
    "    return all_combinations % 1000000\n",
    "\n",
    "print(number_of_rna_strings(sequence))\n",
    "        \n",
    "        \n",
    "    "
   ]
  },
  {
   "cell_type": "code",
   "execution_count": null,
   "metadata": {},
   "outputs": [],
   "source": []
  }
 ],
 "metadata": {
  "kernelspec": {
   "display_name": "Python 3",
   "language": "python",
   "name": "python3"
  },
  "language_info": {
   "codemirror_mode": {
    "name": "ipython",
    "version": 3
   },
   "file_extension": ".py",
   "mimetype": "text/x-python",
   "name": "python",
   "nbconvert_exporter": "python",
   "pygments_lexer": "ipython3",
   "version": "3.8.5"
  }
 },
 "nbformat": 4,
 "nbformat_minor": 4
}
