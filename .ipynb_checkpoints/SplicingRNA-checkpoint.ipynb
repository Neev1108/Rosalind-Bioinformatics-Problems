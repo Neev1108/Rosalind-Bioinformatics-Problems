{
 "cells": [
  {
   "cell_type": "code",
   "execution_count": 8,
   "metadata": {},
   "outputs": [],
   "source": [
    "\"\"\"\n",
    "Given: A DNA string s (of length at most 1 kbp) and a collection of substrings of s acting as introns. \n",
    "All strings are given in FASTA format.\n",
    "\n",
    "Return: A protein string resulting from transcribing and translating the exons of s. \n",
    "(Note: Only one solution will exist for the dataset provided.)\n",
    "\"\"\"\n",
    "\n",
    "from Bio import SeqIO\n",
    "from Bio.Seq import Seq"
   ]
  },
  {
   "cell_type": "code",
   "execution_count": 9,
   "metadata": {},
   "outputs": [],
   "source": [
    "fasta_records = []\n",
    "for seq_record in SeqIO.parse(\"sequences/rna_splicing.fasta\", \"fasta\"):\n",
    "    fasta_records.append(seq_record)"
   ]
  },
  {
   "cell_type": "code",
   "execution_count": 10,
   "metadata": {},
   "outputs": [],
   "source": [
    "# first record is the dna and other records are introns in that dna\n",
    "def spliceRNA_and_translate(fasta_records):\n",
    "    dna_string = str(fasta_records.pop(0).seq)\n",
    "    for x in fasta_records:\n",
    "        intron = str(x.seq)\n",
    "        dna_string = dna_string.replace(intron, \"\")\n",
    "\n",
    "    dna_seq = Seq(dna_string)\n",
    "    protein_no_introns = dna_seq.translate()\n",
    "    \n",
    "    return protein_no_introns"
   ]
  },
  {
   "cell_type": "code",
   "execution_count": 11,
   "metadata": {},
   "outputs": [
    {
     "name": "stdout",
     "output_type": "stream",
     "text": [
      "MVYIADKQHVASREAYGHMFKVCA*\n"
     ]
    }
   ],
   "source": [
    "print(spliceRNA_and_translate(fasta_records))"
   ]
  }
 ],
 "metadata": {
  "kernelspec": {
   "display_name": "Python 3",
   "language": "python",
   "name": "python3"
  },
  "language_info": {
   "codemirror_mode": {
    "name": "ipython",
    "version": 3
   },
   "file_extension": ".py",
   "mimetype": "text/x-python",
   "name": "python",
   "nbconvert_exporter": "python",
   "pygments_lexer": "ipython3",
   "version": "3.8.5"
  }
 },
 "nbformat": 4,
 "nbformat_minor": 4
}
