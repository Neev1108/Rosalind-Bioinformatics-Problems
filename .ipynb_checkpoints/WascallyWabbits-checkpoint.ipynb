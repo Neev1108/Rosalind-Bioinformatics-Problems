{
 "cells": [
  {
   "cell_type": "markdown",
   "metadata": {},
   "source": [
    "###### A sequence is an ordered collection of objects (usually numbers), which are allowed to repeat. Sequences can be finite or infinite. Two examples are the finite sequence (π,−2‾√,0,π) and the infinite sequence of odd numbers (1,3,5,7,9,…). We use the notation an to represent the n-th term of a sequence.\n",
    "\n",
    "###### A recurrence relation is a way of defining the terms of a sequence with respect to the values of previous terms. In the case of Fibonacci's rabbits from the introduction, any given month will contain the rabbits that were alive the previous month, plus any new offspring. A key observation is that the number of offspring in any month is equal to the number of rabbits that were alive two months prior. As a result, if Fn represents the number of rabbit pairs alive after the n-th month, then we obtain the Fibonacci sequence having terms Fn that are defined by the recurrence relation Fn=Fn−1+Fn−2 (with F1=F2=1 to initiate the sequence). Although the sequence bears Fibonacci's name, it was known to Indian mathematicians over two millennia ago.\n",
    "\n",
    "###### When finding the n-th term of a sequence defined by a recurrence relation, we can simply use the recurrence relation to generate terms for progressively larger values of n. This problem introduces us to the computational technique of dynamic programming, which successively builds up solutions by using the answers to smaller cases.\n",
    "\n",
    "##### Given: Positive integers n≤40 and k≤5.\n",
    "\n",
    "###### Return: The total number of rabbit pairs that will be present after n months, if we begin with 1 pair and in each generation, every pair of reproduction-age rabbits produces a litter of k rabbit pairs (instead of only 1 pair).\n"
   ]
  },
  {
   "cell_type": "code",
   "execution_count": 2,
   "metadata": {},
   "outputs": [
    {
     "name": "stdout",
     "output_type": "stream",
     "text": [
      "19\n"
     ]
    }
   ],
   "source": [
    "\"\"\"\n",
    "5 3\n",
    "\n",
    "5 months 3 liters per generation, each month a new generation\n",
    "\n",
    "each month keep track of how many young and old pairs, 1 month to reach reproduction age\n",
    "month 1: 1 rabbit pair young - 1 pairs\n",
    "month 2: 1 rabbit pair old - 1 pairs\n",
    "month 3: 1 rabbit pair -> 1 + 3 = 4\n",
    "month 4: 4 rabbit pairs (1 old, 3 young) -> 4 + 3 = 7 pairs\n",
    "month 5: 7 rabbit pairs(4 old, 3 young) -> 7 + 12 = 19 pairs\n",
    "\n",
    "\"\"\"\n",
    "\n",
    "def rabbit_pairs(n,k):\n",
    "    \n",
    "    #base cases\n",
    "    if n == 1:\n",
    "        return 1\n",
    "    elif n == 2:\n",
    "        return k\n",
    "    \n",
    "    old_generation = rabbit_pairs(n-1,k)\n",
    "    young_generation = rabbit_pairs(n-2, k) \n",
    "    \n",
    "    if n <= 4:\n",
    "        return old_generation + young_generation\n",
    "    \n",
    "    return old_generation + (young_generation * k)\n",
    "        \n",
    "    \n",
    "print(rabbit_pairs(5,3))\n",
    "    \n",
    "    "
   ]
  },
  {
   "cell_type": "code",
   "execution_count": null,
   "metadata": {},
   "outputs": [],
   "source": []
  }
 ],
 "metadata": {
  "kernelspec": {
   "display_name": "Python 3",
   "language": "python",
   "name": "python3"
  },
  "language_info": {
   "codemirror_mode": {
    "name": "ipython",
    "version": 3
   },
   "file_extension": ".py",
   "mimetype": "text/x-python",
   "name": "python",
   "nbconvert_exporter": "python",
   "pygments_lexer": "ipython3",
   "version": "3.8.5"
  }
 },
 "nbformat": 4,
 "nbformat_minor": 4
}
