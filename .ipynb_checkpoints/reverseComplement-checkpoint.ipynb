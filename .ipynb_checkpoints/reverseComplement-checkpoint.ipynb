{
 "cells": [
  {
   "cell_type": "markdown",
   "metadata": {},
   "source": [
    "#### reverse dna string by negative index slice and then a simple series of if statements"
   ]
  },
  {
   "cell_type": "code",
   "execution_count": 6,
   "metadata": {},
   "outputs": [],
   "source": [
    "def reverseComplement(dna):\n",
    "    dna = dna[::-1]\n",
    "    dna = list(dna)\n",
    "    dnaString = ''\n",
    "    for index, value in enumerate(dna):\n",
    "        if value == 'A': \n",
    "            dna[index]='T'\n",
    "        elif value == 'T':\n",
    "            dna[index]='A'\n",
    "        elif value == 'C':\n",
    "            dna[index]= 'G'\n",
    "        elif value == 'G':\n",
    "            dna[index]='C'\n",
    "        dnaString = dnaString + dna[index]\n",
    "    return dnaString"
   ]
  },
  {
   "cell_type": "code",
   "execution_count": 7,
   "metadata": {},
   "outputs": [
    {
     "name": "stdout",
     "output_type": "stream",
     "text": [
      "ACCGGGTTTT\n"
     ]
    }
   ],
   "source": [
    "f = open(\"sequences/revc.txt\", \"r\")\n",
    "dna = f.read()\n",
    "\n",
    "print(reverseComplement(dna))"
   ]
  },
  {
   "cell_type": "code",
   "execution_count": null,
   "metadata": {},
   "outputs": [],
   "source": [
    "\n"
   ]
  },
  {
   "cell_type": "code",
   "execution_count": null,
   "metadata": {},
   "outputs": [],
   "source": []
  }
 ],
 "metadata": {
  "kernelspec": {
   "display_name": "Python 3",
   "language": "python",
   "name": "python3"
  },
  "language_info": {
   "codemirror_mode": {
    "name": "ipython",
    "version": 3
   },
   "file_extension": ".py",
   "mimetype": "text/x-python",
   "name": "python",
   "nbconvert_exporter": "python",
   "pygments_lexer": "ipython3",
   "version": "3.8.5"
  }
 },
 "nbformat": 4,
 "nbformat_minor": 4
}
