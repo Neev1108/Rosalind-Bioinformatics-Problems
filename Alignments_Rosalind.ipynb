{
 "cells": [
  {
   "cell_type": "code",
   "execution_count": 47,
   "metadata": {},
   "outputs": [],
   "source": [
    "import math\n",
    "from itertools import permutations"
   ]
  },
  {
   "cell_type": "code",
   "execution_count": 65,
   "metadata": {},
   "outputs": [
    {
     "name": "stdout",
     "output_type": "stream",
     "text": [
      "TA\n",
      "[(1, 2, 3), (1, 3, 2), (2, 1, 3), (2, 3, 1), (3, 1, 2), (3, 2, 1)]\n"
     ]
    }
   ],
   "source": [
    "def countPointMutations(dna1, dna2):\n",
    "    count = 0\n",
    "    for x, y in zip(dna1, dna2):\n",
    "        if x != y:\n",
    "            count += 1\n",
    "        \n",
    "    return count\n",
    "\n",
    "\n",
    "def findingSharedMotif(fasta_records):\n",
    "    fasta_records = sorted(fasta_records, key = len)\n",
    "    shortest_seq = fasta_records[0]\n",
    "    \n",
    "    compare_seq = fasta_records[1:]\n",
    "    motif = ''\n",
    "    for x in range(len(shortest_seq)):\n",
    "        for y in range(x, len(shortest_seq)):\n",
    "            current_seq = shortest_seq[x:y+1]\n",
    "            found = False\n",
    "            for seq in compare_seq:\n",
    "                if current_seq in seq:\n",
    "                    found = True\n",
    "                else:\n",
    "                    found = False\n",
    "                    break   \n",
    "            if found == True and len(current_seq) > len(motif):\n",
    "                motif = current_seq\n",
    "                \n",
    "    return motif\n",
    "\n",
    "def allPermutations(n):\n",
    "    list_of_nums = [x for x in range(1,n+1)]\n",
    "    length = int(math.factorial(n)/math.factorial(n-n))\n",
    "    perm = permutations(list_of_nums)\n",
    "    permutation_arr = [x for x in perm]\n",
    "    return permutation_arr\n",
    "\n",
    "\n",
    "\"\"\"\n",
    "k = homo dominant, m = heterozygous, n = homo recessive\n",
    "Probability that 2 individuals are homo dominant or heterozygous\n",
    "10 individuals, 5 homod, 2 hetero, 3 homor\n",
    "\"\"\"\n",
    "def MendelsFirstLaw(k, m, n):\n",
    "    pop = k + m + n\n",
    "    r_r = (n / pop) * ((n - 1) / (pop - 1))\n",
    "    h_h = (m / pop) * ((m - 1) / (pop - 1))\n",
    "    h_r = (m / pop) * (n / (pop - 1)) + (n / pop) * (m / (pop - 1))\n",
    "\n",
    "    recessive_total = r_r + h_h * 1/4 + h_r * 1/2\n",
    "\n",
    "    \n",
    "    return 1-recessive_total\n",
    "        \n",
    "\n",
    "dna_string1 = 'GAGCCTACTAACGGGAT'\n",
    "dna_string2 = 'CATCGTAATGACGGCCT'\n",
    "\n",
    "fasta_records = ['GATTACA', 'TAGACCA', 'ATACA']\n",
    "\n",
    "print(findingSharedMotif(fasta_records))\n",
    "print(allPermutations(3))\n"
   ]
  },
  {
   "cell_type": "code",
   "execution_count": 66,
   "metadata": {},
   "outputs": [
    {
     "name": "stdout",
     "output_type": "stream",
     "text": [
      "0.7833333333333333\n"
     ]
    }
   ],
   "source": [
    "print(MendelsFirstLaw(2,2,2))"
   ]
  },
  {
   "cell_type": "code",
   "execution_count": null,
   "metadata": {},
   "outputs": [],
   "source": []
  }
 ],
 "metadata": {
  "kernelspec": {
   "display_name": "Python 3",
   "language": "python",
   "name": "python3"
  },
  "language_info": {
   "codemirror_mode": {
    "name": "ipython",
    "version": 3
   },
   "file_extension": ".py",
   "mimetype": "text/x-python",
   "name": "python",
   "nbconvert_exporter": "python",
   "pygments_lexer": "ipython3",
   "version": "3.8.5"
  }
 },
 "nbformat": 4,
 "nbformat_minor": 4
}
