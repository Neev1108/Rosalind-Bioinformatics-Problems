{
 "cells": [
  {
   "cell_type": "code",
   "execution_count": 2,
   "metadata": {},
   "outputs": [],
   "source": [
    "\"\"\"\n",
    "Given: Six nonnegative integers, each of which does not exceed 20,000. \n",
    "The integers correspond to the number of couples in a population possessing each genotype pairing \n",
    "for a given factor. In order, the six given integers represent the number of couples having the \n",
    "following genotypes:\n",
    "\n",
    "1. AA-AA        AA - AA, all will show dominant, 2 children will be dominant\n",
    "2. AA-Aa        AA, Aa, AA, Aa, all will show dominant, 2 children will be dominant\n",
    "3. AA-aa        Aa, all will show dominant, 2 children will be dominant\n",
    "4. Aa-Aa        AA, Aa, Aa, aa, 3/4 will be dominant, 1.5 children will be dominant\n",
    "5. Aa-aa        Aa, Aa, aa, aa, 2/4 will be dominant, 1 child will be dominant\n",
    "6. aa-aa       No dominant, No child will be dominant\n",
    "\n",
    "\n",
    "\n",
    "Return: The expected number of offspring displaying the dominant phenotype in the next generation, \n",
    "under the assumption that every couple has exactly two offspring.\n",
    "\"\"\"\n",
    "nums = [1, 0, 0, 1, 0, 1]\n",
    "\n",
    "def calculatingExpectedOffspring(nums):\n",
    "    dom_children = 0\n",
    "    for i in range(len(nums)):\n",
    "        if i == 0 and nums[i] == 1:\n",
    "            dom_children += 2\n",
    "        if i == 1 and nums[i] == 1:\n",
    "            dom_children += 2\n",
    "        if i == 2 and nums[i] == 1:\n",
    "            dom_children += 2\n",
    "        if i == 3 and nums[i] == 1:\n",
    "            dom_children += 1.5\n",
    "        if i == 4 and nums[i] == 1:\n",
    "            dom_children += 1\n",
    "            \n",
    "    return dom_children\n"
   ]
  },
  {
   "cell_type": "code",
   "execution_count": 3,
   "metadata": {},
   "outputs": [
    {
     "name": "stdout",
     "output_type": "stream",
     "text": [
      "3.5\n"
     ]
    }
   ],
   "source": [
    "print(calculatingExpectedOffspring(nums))"
   ]
  },
  {
   "cell_type": "code",
   "execution_count": null,
   "metadata": {},
   "outputs": [],
   "source": []
  }
 ],
 "metadata": {
  "kernelspec": {
   "display_name": "Python 3",
   "language": "python",
   "name": "python3"
  },
  "language_info": {
   "codemirror_mode": {
    "name": "ipython",
    "version": 3
   },
   "file_extension": ".py",
   "mimetype": "text/x-python",
   "name": "python",
   "nbconvert_exporter": "python",
   "pygments_lexer": "ipython3",
   "version": "3.8.5"
  }
 },
 "nbformat": 4,
 "nbformat_minor": 4
}
