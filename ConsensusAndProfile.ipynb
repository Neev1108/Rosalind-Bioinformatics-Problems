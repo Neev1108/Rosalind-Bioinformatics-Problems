{
 "cells": [
  {
   "cell_type": "code",
   "execution_count": 3,
   "metadata": {},
   "outputs": [],
   "source": [
    "from Bio import SeqIO"
   ]
  },
  {
   "cell_type": "code",
   "execution_count": 4,
   "metadata": {},
   "outputs": [
    {
     "name": "stdout",
     "output_type": "stream",
     "text": [
      "[Seq('ATCCAGCT'), Seq('GGGCAACT'), Seq('ATGGATCT'), Seq('AAGCAACC'), Seq('TTGGAACT'), Seq('ATGCCATT'), Seq('ATGGCACT')]\n"
     ]
    }
   ],
   "source": [
    "fasta_records = []\n",
    "for seq_record in SeqIO.parse(\"sequences/cons_profile_sequences.fasta\", \"fasta\"):\n",
    "    fasta_records.append(seq_record.seq)\n",
    "    \n",
    "print(fasta_records)"
   ]
  },
  {
   "cell_type": "markdown",
   "metadata": {},
   "source": [
    "###### Transpose the 2D array to get the columns and then count length"
   ]
  },
  {
   "cell_type": "code",
   "execution_count": 5,
   "metadata": {},
   "outputs": [
    {
     "name": "stdout",
     "output_type": "stream",
     "text": [
      "Profile Matrix\n",
      "\n",
      "A:  5 1 0 0 5 5 0 0 \n",
      "\n",
      "C:  0 0 1 4 2 0 6 1 \n",
      "\n",
      "G:  1 1 6 3 0 1 0 0 \n",
      "\n",
      "T:  1 5 0 0 0 1 1 6 \n",
      "\n",
      "\n",
      "Consensus Matrix \n",
      "\n",
      "A T G C A A C T "
     ]
    }
   ],
   "source": [
    "\"\"\"\n",
    "\n",
    "\n",
    "Given: A collection of at most 10 DNA strings of equal length (at most 1 kbp) in FASTA format.\n",
    "\n",
    "Return: A consensus string and profile matrix for the collection. (If several possible consensus strings exist, then you may return any one of them.)\n",
    "\n",
    "Sample Dataset\n",
    "\n",
    ">Rosalind_1\n",
    "ATCCAGCT\n",
    ">Rosalind_2\n",
    "GGGCAACT\n",
    ">Rosalind_3\n",
    "ATGGATCT\n",
    ">Rosalind_4\n",
    "AAGCAACC\n",
    ">Rosalind_5\n",
    "TTGGAACT\n",
    ">Rosalind_6\n",
    "ATGCCATT\n",
    ">Rosalind_7\n",
    "ATGGCACT\n",
    "Sample Output\n",
    "\n",
    "ATGCAACT\n",
    "A: 5 1 0 0 5 5 0 0\n",
    "C: 0 0 1 4 2 0 6 1\n",
    "G: 1 1 6 3 0 1 0 0\n",
    "T: 1 5 0 0 0 1 1 6\n",
    "\n",
    "\"\"\"\n",
    "\n",
    "def profile_consensus_matrix(fasta_records):\n",
    "    equal_length = len(fasta_records[0])\n",
    "    count = 0\n",
    "    profile_matrix = []\n",
    "    \n",
    "    for i in range(4):   \n",
    "        row = []\n",
    "        for column in zip(*fasta_records):\n",
    "            if i == 0:\n",
    "                row.append(column.count('A'))\n",
    "                continue\n",
    "            elif i == 1:\n",
    "                row.append(column.count('C'))\n",
    "                continue\n",
    "            elif i == 2:\n",
    "                row.append(column.count('G'))\n",
    "                continue\n",
    "            else:\n",
    "                row.append(column.count('T'))\n",
    "                continue\n",
    "            \n",
    "        profile_matrix.append(row)\n",
    "    \n",
    "    print(\"Profile Matrix\\n\")\n",
    "    for index,value in enumerate(profile_matrix):\n",
    "        if index == 0:\n",
    "            print(\"A: \", end = \" \")\n",
    "        if index == 1:\n",
    "            print(\"C: \", end = \" \")\n",
    "        if index == 2:\n",
    "            print(\"G: \", end = \" \")\n",
    "        if index == 3:\n",
    "            print(\"T: \", end = \" \")\n",
    "        for c in value:\n",
    "            print(c, end = \" \")\n",
    "            \n",
    "        print(\"\\n\")\n",
    "        \n",
    "    consensus_matrix = []\n",
    "    for column in zip(*profile_matrix):\n",
    "        max_num = max(column)\n",
    "        index_of_max = column.index(max_num)\n",
    "    \n",
    "        if index_of_max == 0:\n",
    "            consensus_matrix.append('A')\n",
    "        if index_of_max == 1:\n",
    "            consensus_matrix.append('C')\n",
    "        if index_of_max == 2:\n",
    "            consensus_matrix.append('G')\n",
    "        if index_of_max == 3:\n",
    "            consensus_matrix.append('T')\n",
    "            \n",
    "    print('\\nConsensus Matrix \\n')\n",
    "    for x in consensus_matrix:\n",
    "        print(x, end = \" \")\n",
    "\n",
    "profile_consensus_matrix(fasta_records)\n",
    "       "
   ]
  },
  {
   "cell_type": "code",
   "execution_count": null,
   "metadata": {},
   "outputs": [],
   "source": []
  },
  {
   "cell_type": "code",
   "execution_count": null,
   "metadata": {},
   "outputs": [],
   "source": []
  }
 ],
 "metadata": {
  "kernelspec": {
   "display_name": "Python 3",
   "language": "python",
   "name": "python3"
  },
  "language_info": {
   "codemirror_mode": {
    "name": "ipython",
    "version": 3
   },
   "file_extension": ".py",
   "mimetype": "text/x-python",
   "name": "python",
   "nbconvert_exporter": "python",
   "pygments_lexer": "ipython3",
   "version": "3.8.5"
  }
 },
 "nbformat": 4,
 "nbformat_minor": 4
}
