{
 "cells": [
  {
   "cell_type": "code",
   "execution_count": 35,
   "metadata": {},
   "outputs": [],
   "source": [
    "from Bio import SeqIO\n",
    "import requests\n",
    "import re"
   ]
  },
  {
   "cell_type": "code",
   "execution_count": 36,
   "metadata": {},
   "outputs": [],
   "source": [
    "\n",
    "fasta_records = []\n",
    "def write_fasta_file(request):\n",
    "    fasta_records.append(request)\n",
    "        \n",
    "request_A2Z669 = requests.get('http://www.uniprot.org/uniprot/A2Z669.fasta')\n",
    "write_fasta_file(request_A2Z669)\n",
    "\n",
    "request_B5ZC00 = requests.get('http://www.uniprot.org/uniprot/B5ZC00.fasta')\n",
    "write_fasta_file(request_B5ZC00)\n",
    "\n",
    "request_P07204_TRBM_HUMAN = requests.get('http://www.uniprot.org/uniprot/P07204_TRBM_HUMAN.fasta')\n",
    "write_fasta_file(request_P07204_TRBM_HUMAN) \n",
    "\n",
    "request_P20840_SAG1_YEAST = requests.get('http://www.uniprot.org/uniprot/P20840_SAG1_YEAST.fasta')\n",
    "write_fasta_file(request_P20840_SAG1_YEAST)\n",
    "\n",
    "for x in fasta_records:\n",
    "    with open('sequences/protifMotif.fasta', 'ab') as f:\n",
    "        f.write(x.content)\n",
    "\n"
   ]
  },
  {
   "cell_type": "code",
   "execution_count": 47,
   "metadata": {},
   "outputs": [
    {
     "name": "stdout",
     "output_type": "stream",
     "text": [
      "sp|P20840|SAG1_YEAST\n",
      "[79, 109, 135, 248, 306, 348, 364, 402, 485, 501, 614]\n",
      "sp|B5ZC00|SYG_UREU1\n",
      "[85, 118, 142, 306, 395]\n",
      "sp|P07204|TRBM_HUMAN\n",
      "[47, 115, 116, 382, 409]\n",
      "sp|P20840|SAG1_YEAST\n",
      "[79, 109, 135, 248, 306, 348, 364, 402, 485, 501, 614]\n",
      "sp|B5ZC00|SYG_UREU1\n",
      "[85, 118, 142, 306, 395]\n",
      "sp|P07204|TRBM_HUMAN\n",
      "[47, 115, 116, 382, 409]\n",
      "sp|P20840|SAG1_YEAST\n",
      "[79, 109, 135, 248, 306, 348, 364, 402, 485, 501, 614]\n",
      "sp|B5ZC00|SYG_UREU1\n",
      "[85, 118, 142, 306, 395]\n",
      "sp|P07204|TRBM_HUMAN\n",
      "[47, 115, 116, 382, 409]\n",
      "sp|P20840|SAG1_YEAST\n",
      "[79, 109, 135, 248, 306, 348, 364, 402, 485, 501, 614]\n"
     ]
    }
   ],
   "source": [
    "\n",
    "    \n",
    "\"\"\"\n",
    "To allow for the presence of its varying forms, \n",
    "a protein motif is represented by a shorthand as follows: \n",
    "[XY] means \"either X or Y\" and {X} means \"any amino acid except X.\" \n",
    "For example, the N-glycosylation motif is written as N{P}[ST]{P}.\n",
    "\n",
    "\"\"\"\n",
    "\n",
    "motifs = re.compile(r'(?=(N[^P][ST][^P]))')                   \n",
    "count = 0 \n",
    "\n",
    "for record in SeqIO.parse('sequences/protifMotif.fasta', 'fasta'):                   \n",
    "    sequence = record.seq                                     \n",
    "    positions = []\n",
    "    \n",
    "    for m in re.finditer(motifs, str(sequence)):              \n",
    "        positions.append(m.start() + 1)      \n",
    "    \n",
    "    if (len(positions) > 0):\n",
    "        print(record.name)\n",
    "        print(positions)"
   ]
  },
  {
   "cell_type": "code",
   "execution_count": null,
   "metadata": {},
   "outputs": [],
   "source": []
  }
 ],
 "metadata": {
  "kernelspec": {
   "display_name": "Python 3",
   "language": "python",
   "name": "python3"
  },
  "language_info": {
   "codemirror_mode": {
    "name": "ipython",
    "version": 3
   },
   "file_extension": ".py",
   "mimetype": "text/x-python",
   "name": "python",
   "nbconvert_exporter": "python",
   "pygments_lexer": "ipython3",
   "version": "3.8.5"
  }
 },
 "nbformat": 4,
 "nbformat_minor": 4
}
