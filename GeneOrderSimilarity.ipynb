{
 "cells": [
  {
   "cell_type": "code",
   "execution_count": 19,
   "metadata": {},
   "outputs": [],
   "source": [
    "\"\"\"\n",
    "One very simple way of comparing genes from two chromosomes is to search for the largest collection of genes \n",
    "that are found in the same order in both chromosomes. \n",
    "To do so, we will need to apply our idea of permutations. \n",
    "Say that two chromosomes share n genes; if we label the genes of one chromosome by the numbers \n",
    "1 through n in the order that they appear, then the second chromosome will be given by a \n",
    "permutation of these numbered genes. \n",
    "To find the largest number of genes appearing in the same order, \n",
    "we need only to find the largest collection of increasing elements in the permutation.\n",
    "\n",
    "Given: A positive integer n≤10000 followed by a permutation π of length n.\n",
    "\n",
    "Return: A longest increasing subsequence of π, followed by a longest decreasing subsequence of π.\n",
    "\n",
    "\n",
    "Sample Dataset\n",
    "\n",
    "5 1 4 2 3\n",
    "\n",
    "Sample Output\n",
    "\n",
    "1 2 3\n",
    "5 4 2\n",
    "\"\"\"\n",
    "import itertools "
   ]
  },
  {
   "cell_type": "code",
   "execution_count": 20,
   "metadata": {},
   "outputs": [],
   "source": [
    "\"\"\"\n",
    "\n",
    "Store all longest increasing subsequences into an array and then just return the max array. \n",
    "Flip the sign for decreasing.\n",
    "\n",
    "\"\"\"\n",
    "\n",
    "def get_longest_increasing_subsequence(permutation):\n",
    "    \n",
    "    if len(permutation) == 1:\n",
    "        return permutation\n",
    "    \n",
    "    all_increasing_subs = []\n",
    "    for j in range(1, len(permutation)):\n",
    "        l = []\n",
    "        for i in range(0, j):\n",
    "            if permutation[i] < permutation[j]:\n",
    "                l.append(permutation[i])\n",
    "                \n",
    "        l.append(permutation[j])\n",
    "        all_increasing_subs.append(l)\n",
    "        \n",
    "    return max(all_increasing_subs, key = len)\n",
    "\n",
    "def get_longest_decreasing_subsequence(permutation):\n",
    "    \n",
    "    if len(permutation) == 1:\n",
    "        return permutation\n",
    "    \n",
    "    all_increasing_subs = []\n",
    "    for j in range(1, len(permutation)):\n",
    "        l = []\n",
    "        for i in range(0, j):\n",
    "            if permutation[i] > permutation[j]:\n",
    "                l.append(permutation[i])\n",
    "                \n",
    "        l.append(permutation[j])\n",
    "        all_increasing_subs.append(l)\n",
    "        \n",
    "    return max(all_increasing_subs, key = len)\n",
    "\n",
    "    \n",
    "                "
   ]
  },
  {
   "cell_type": "code",
   "execution_count": 21,
   "metadata": {},
   "outputs": [
    {
     "name": "stdout",
     "output_type": "stream",
     "text": [
      "[1, 2, 3]\n",
      "[5, 4, 2]\n"
     ]
    }
   ],
   "source": [
    "print(get_longest_increasing_subsequence([5, 1, 4, 2, 3]))\n",
    "print(get_longest_decreasing_subsequence([5, 1, 4, 2, 3]))"
   ]
  },
  {
   "cell_type": "code",
   "execution_count": null,
   "metadata": {},
   "outputs": [],
   "source": []
  }
 ],
 "metadata": {
  "kernelspec": {
   "display_name": "Python 3",
   "language": "python",
   "name": "python3"
  },
  "language_info": {
   "codemirror_mode": {
    "name": "ipython",
    "version": 3
   },
   "file_extension": ".py",
   "mimetype": "text/x-python",
   "name": "python",
   "nbconvert_exporter": "python",
   "pygments_lexer": "ipython3",
   "version": "3.8.5"
  }
 },
 "nbformat": 4,
 "nbformat_minor": 4
}
