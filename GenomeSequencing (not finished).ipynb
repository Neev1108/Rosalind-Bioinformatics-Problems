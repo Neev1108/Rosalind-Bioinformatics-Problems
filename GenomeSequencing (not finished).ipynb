{
 "cells": [
  {
   "cell_type": "markdown",
   "metadata": {},
   "source": [
    "Recall from “Computing GC Content” that almost all humans share approximately 99.9% of the same nucleotides on the genome. Thus, if we know only a few complete genomes from the species, then we already possess an important key to unlocking the species genome.\n",
    "\n",
    "Determining an organism's complete genome (called genome sequencing) forms a central task of bioinformatics. Unfortunately, we still don't possess the microscope technology to zoom into the nucleotide level and determine the sequence of a genome's nucleotides, one at a time. However, researchers can apply chemical methods to generate and identify much smaller snippets of DNA, called reads.\n",
    "\n",
    "After obtaining a large collection of reads from multiple copies of the same genome, the aim is to reconstruct the desired genome from these small pieces of DNA; this process is called fragment assembly (see Figure 1)."
   ]
  },
  {
   "cell_type": "markdown",
   "metadata": {},
   "source": [
    "Problem\n",
    "\n",
    "For a collection of strings, a larger string containing every one of the smaller strings as a substring is called a superstring.\n",
    "\n",
    "By the assumption of parsimony, a shortest possible superstring over a collection of reads serves as a candidate chromosome.\n",
    "\n",
    "Given: At most 50 DNA strings of approximately equal length, not exceeding 1 kbp, in FASTA format (which represent reads deriving from the same strand of a single linear chromosome).\n",
    "\n",
    "The dataset is guaranteed to satisfy the following condition: there exists a unique way to reconstruct the entire chromosome from these reads by gluing together pairs of reads that overlap by more than half their length.\n",
    "\n",
    "Return: A shortest superstring containing all the given strings (thus corresponding to a reconstructed chromosome)."
   ]
  },
  {
   "cell_type": "markdown",
   "metadata": {},
   "source": [
    "\n",
    "Input\n",
    ">Rosalind_56\n",
    "ATTAGACCTG\n",
    "\n",
    ">Rosalind_57\n",
    "CCTGCCGGAA\n",
    "\n",
    ">Rosalind_58\n",
    "AGACCTGCCG\n",
    "\n",
    ">Rosalind_59\n",
    "GCCGGAATAC\n",
    "\n",
    "Output\n",
    "ATTAGACCTGCCGGAATAC"
   ]
  },
  {
   "cell_type": "code",
   "execution_count": 13,
   "metadata": {},
   "outputs": [],
   "source": [
    "from Bio import SeqIO"
   ]
  },
  {
   "cell_type": "code",
   "execution_count": 14,
   "metadata": {},
   "outputs": [
    {
     "name": "stdout",
     "output_type": "stream",
     "text": [
      "['ATTAGACCTG', 'CCTGCCGGAA', 'AGACCTGCCG', 'GCCGGAATAC']\n"
     ]
    }
   ],
   "source": [
    "\n",
    "fasta_records = []\n",
    "for seq_record in SeqIO.parse(\"sequences/genome_sequencing.fasta\",\"fasta\"):\n",
    "    fasta_records.append(str(seq_record.seq))\n",
    "    \n",
    "print(fasta_records)"
   ]
  },
  {
   "cell_type": "code",
   "execution_count": 79,
   "metadata": {},
   "outputs": [],
   "source": [
    "\n",
    "def shortest_superstring(fasta_records):\n",
    "    superstring = fasta_records[0]\n",
    "    size = len(fasta_records)\n",
    "    for i in range(1,size):\n",
    "        print(fasta_records)\n",
    "        if i + 1 < size:\n",
    "            s2 = find_attachment(fasta_records[i], fasta_records[i+1])\n",
    "            fasta_records[i+1] = s2\n",
    "            superstring = superstring + (fasta_records[i] + s2)\n",
    "        else:\n",
    "            break\n",
    "    return superstring\n",
    "    \n",
    "    \n",
    "    \n",
    "def find_attachment(s1, s2):\n",
    "    i = 1\n",
    "    j = len(s1)-2\n",
    "    superstring = \" \"\n",
    "    suffix = s1[len(s1)-1]\n",
    "    prefix = s2[0]\n",
    "    \n",
    "    while len(suffix) < len(s1) and len(prefix) < len(s2):\n",
    "        suffix = s1[j] + suffix\n",
    "        prefix = prefix + s2[i]\n",
    "        i += 1\n",
    "        j -= 1\n",
    "        print(\"prefix is\", prefix)\n",
    "        print(\"suffix is\", suffix)\n",
    "        \n",
    "        if suffix == prefix:\n",
    "            break\n",
    "    \n",
    "    s2 = s2.replace(prefix, '', 1)\n",
    "    \n",
    "    return s2"
   ]
  },
  {
   "cell_type": "code",
   "execution_count": 81,
   "metadata": {
    "scrolled": true
   },
   "outputs": [
    {
     "name": "stdout",
     "output_type": "stream",
     "text": [
      "prefix is CC\n",
      "suffix is TG\n",
      "prefix is CCT\n",
      "suffix is CTG\n",
      "prefix is CCTG\n",
      "suffix is CCTG\n",
      "ATTAGACCTGCCGGAA\n",
      "['ATTAGACCTG', 'CCTGCCGGAA', 'GCCG', 'ATAC']\n",
      "prefix is GC\n",
      "suffix is AA\n",
      "prefix is GCC\n",
      "suffix is GAA\n",
      "prefix is GCCG\n",
      "suffix is GGAA\n",
      "['ATTAGACCTG', 'CCTGCCGGAA', 'CCTGCCGGAA', 'ATAC']\n",
      "prefix is AT\n",
      "suffix is AA\n",
      "prefix is ATA\n",
      "suffix is GAA\n",
      "prefix is ATAC\n",
      "suffix is GGAA\n",
      "['ATTAGACCTG', 'CCTGCCGGAA', 'CCTGCCGGAA', 'CCTGCCGGAA']\n",
      "ATTAGACCTGCCTGCCGGAACCTGCCGGAACCTGCCGGAACCTGCCGGAA\n"
     ]
    }
   ],
   "source": [
    "print(find_attachment('ATTAGACCTG', 'CCTGCCGGAA'))"
   ]
  },
  {
   "cell_type": "code",
   "execution_count": null,
   "metadata": {},
   "outputs": [],
   "source": []
  }
 ],
 "metadata": {
  "kernelspec": {
   "display_name": "Python 3",
   "language": "python",
   "name": "python3"
  },
  "language_info": {
   "codemirror_mode": {
    "name": "ipython",
    "version": 3
   },
   "file_extension": ".py",
   "mimetype": "text/x-python",
   "name": "python",
   "nbconvert_exporter": "python",
   "pygments_lexer": "ipython3",
   "version": "3.8.5"
  }
 },
 "nbformat": 4,
 "nbformat_minor": 4
}
