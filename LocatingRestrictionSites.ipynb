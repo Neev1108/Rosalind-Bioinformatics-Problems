{
 "cells": [
  {
   "cell_type": "code",
   "execution_count": 15,
   "metadata": {},
   "outputs": [],
   "source": [
    "\"\"\"\n",
    "A DNA string is a reverse palindrome if it is equal to its reverse complement. \n",
    "For instance, GCATGC is a reverse palindrome because its reverse complement is GCATGC. See Figure 2.\n",
    "\n",
    "Return a The position and length of every reverse palindrome in the string having \n",
    "length between 4 and 12. You may return these pairs in any order.\n",
    "\"\"\"\n",
    "from Bio.Seq import Seq\n",
    "from Bio import SeqIO"
   ]
  },
  {
   "cell_type": "markdown",
   "metadata": {},
   "source": [
    "#### Create a subsequence from each character in original sequence that spans the legnth specified and increases in second loop. Then check if that subsequence is in the reverse complement. If it is, then add the position in the original sequence and its length"
   ]
  },
  {
   "cell_type": "code",
   "execution_count": 48,
   "metadata": {},
   "outputs": [],
   "source": [
    "\n",
    "def look_for_reverse_palindromes(sequence):\n",
    "    reverse = sequence.reverse_complement()\n",
    "    reverse_palin = []\n",
    "    for i in range(len(sequence)):\n",
    "        position_length = []\n",
    "        for j in range(4, 13):\n",
    "            if i + j > len(sequence):\n",
    "                break\n",
    "            substring = sequence[i:i+j]\n",
    "            if substring in reverse:\n",
    "                position_length = [i, j]\n",
    "        \n",
    "        if len(position_length) != 0:\n",
    "            reverse_palin.append(position_length)\n",
    "    return reverse_palin\n",
    "            "
   ]
  },
  {
   "cell_type": "code",
   "execution_count": 52,
   "metadata": {},
   "outputs": [
    {
     "name": "stdout",
     "output_type": "stream",
     "text": [
      "TCAATGCATGCGGGTCTATATGCAT\n",
      "ATGCATATAGACCCGCATGCATTGA\n",
      "0-based Position and Length (might look different from Rosalind answers)\n",
      "\n",
      "4 6 \n",
      "5 5 \n",
      "6 6 \n",
      "7 5 \n",
      "8 4 \n",
      "17 4 \n",
      "18 4 \n",
      "20 6 \n",
      "21 5 \n",
      "22 4 "
     ]
    }
   ],
   "source": [
    "sequence = Seq('TCAATGCATGCGGGTCTATATGCAT')\n",
    "print(str(sequence))\n",
    "print(str(sequence.reverse_complement()))\n",
    "reverse_palin = look_for_reverse_palindromes(sequence)\n",
    "print(\"0-based index Position and Length (might look different from Rosalind answers because they did 1-based )\")\n",
    "for x in reverse_palin:\n",
    "    print()\n",
    "    for y in x:\n",
    "        print(y, end = \" \")\n",
    "    "
   ]
  },
  {
   "cell_type": "code",
   "execution_count": null,
   "metadata": {},
   "outputs": [],
   "source": []
  },
  {
   "cell_type": "code",
   "execution_count": null,
   "metadata": {},
   "outputs": [],
   "source": []
  }
 ],
 "metadata": {
  "kernelspec": {
   "display_name": "Python 3",
   "language": "python",
   "name": "python3"
  },
  "language_info": {
   "codemirror_mode": {
    "name": "ipython",
    "version": 3
   },
   "file_extension": ".py",
   "mimetype": "text/x-python",
   "name": "python",
   "nbconvert_exporter": "python",
   "pygments_lexer": "ipython3",
   "version": "3.8.5"
  }
 },
 "nbformat": 4,
 "nbformat_minor": 4
}
