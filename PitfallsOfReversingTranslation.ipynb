{
 "cells": [
  {
   "cell_type": "code",
   "execution_count": null,
   "metadata": {},
   "outputs": [],
   "source": [
    "\"\"\"\n",
    "Unfortunately, although any RNA string can be translated into a unique protein string, \n",
    "reversing the process yields a huge number of possible RNA strings from a single protein string \n",
    "because most amino acids correspond to multiple RNA codons (see the RNA Codon Table).\n",
    "\n",
    "Because of memory considerations, most data formats that are built into languages have upper bounds on how \n",
    "large an integer can be: in some versions of Python, an \"int\" variable may be required to be no \n",
    "larger than 231−1, or 2,147,483,647. As a result, to deal with very large numbers in Rosalind, \n",
    "we need to devise a system that allows us to manipulate large numbers without \n",
    "actually having to store large numbers.\n",
    "\n",
    "\"\"\"\n",
    "\n"
   ]
  }
 ],
 "metadata": {
  "kernelspec": {
   "display_name": "Python 3",
   "language": "python",
   "name": "python3"
  },
  "language_info": {
   "codemirror_mode": {
    "name": "ipython",
    "version": 3
   },
   "file_extension": ".py",
   "mimetype": "text/x-python",
   "name": "python",
   "nbconvert_exporter": "python",
   "pygments_lexer": "ipython3",
   "version": "3.8.5"
  }
 },
 "nbformat": 4,
 "nbformat_minor": 4
}
